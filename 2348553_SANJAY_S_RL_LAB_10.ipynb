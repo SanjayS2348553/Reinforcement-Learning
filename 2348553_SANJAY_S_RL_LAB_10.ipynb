{
  "nbformat": 4,
  "nbformat_minor": 0,
  "metadata": {
    "colab": {
      "provenance": [],
      "authorship_tag": "ABX9TyOvZLIrLO+18zlqUVi2uiDb",
      "include_colab_link": true
    },
    "kernelspec": {
      "name": "python3",
      "display_name": "Python 3"
    },
    "language_info": {
      "name": "python"
    }
  },
  "cells": [
    {
      "cell_type": "markdown",
      "metadata": {
        "id": "view-in-github",
        "colab_type": "text"
      },
      "source": [
        "<a href=\"https://colab.research.google.com/github/SanjayS2348553/Reinforcement-Learning/blob/main/2348553_SANJAY_S_RL_LAB_10.ipynb\" target=\"_parent\"><img src=\"https://colab.research.google.com/assets/colab-badge.svg\" alt=\"Open In Colab\"/></a>"
      ]
    },
    {
      "cell_type": "markdown",
      "source": [
        "# Implement policy gradient methods for policy search"
      ],
      "metadata": {
        "id": "B1wTpxJn6DLj"
      }
    },
    {
      "cell_type": "code",
      "execution_count": 1,
      "metadata": {
        "colab": {
          "base_uri": "https://localhost:8080/"
        },
        "id": "brA3c4HG6CYL",
        "outputId": "ebe7100c-bb8e-4ae1-b34e-38cbac776304"
      },
      "outputs": [
        {
          "output_type": "stream",
          "name": "stderr",
          "text": [
            "/usr/local/lib/python3.10/dist-packages/gym/core.py:317: DeprecationWarning: \u001b[33mWARN: Initializing wrapper in old step API which returns one bool instead of two. It is recommended to set `new_step_api=True` to use new step API. This will be the default behaviour in future.\u001b[0m\n",
            "  deprecation(\n",
            "/usr/local/lib/python3.10/dist-packages/gym/wrappers/step_api_compatibility.py:39: DeprecationWarning: \u001b[33mWARN: Initializing environment in old step API which returns one bool instead of two. It is recommended to set `new_step_api=True` to use new step API. This will be the default behaviour in future.\u001b[0m\n",
            "  deprecation(\n",
            "/usr/local/lib/python3.10/dist-packages/gym/utils/passive_env_checker.py:241: DeprecationWarning: `np.bool8` is a deprecated alias for `np.bool_`.  (Deprecated NumPy 1.24)\n",
            "  if not isinstance(terminated, (bool, np.bool8)):\n"
          ]
        },
        {
          "output_type": "stream",
          "name": "stdout",
          "text": [
            "Episode 0, Total Reward: 31.0\n",
            "Episode 50, Total Reward: 129.0\n",
            "Episode 100, Total Reward: 70.0\n",
            "Episode 150, Total Reward: 500.0\n",
            "Episode 200, Total Reward: 197.0\n",
            "Episode 250, Total Reward: 500.0\n",
            "Episode 300, Total Reward: 183.0\n",
            "Episode 350, Total Reward: 500.0\n",
            "Episode 400, Total Reward: 500.0\n",
            "Episode 450, Total Reward: 500.0\n"
          ]
        }
      ],
      "source": [
        "import gym\n",
        "import torch\n",
        "import torch.nn as nn\n",
        "import torch.optim as optim\n",
        "from torch.distributions import Categorical\n",
        "\n",
        "# Define the policy network\n",
        "class PolicyNetwork(nn.Module):\n",
        "    def __init__(self, state_dim, action_dim, hidden_dim=128):\n",
        "        super(PolicyNetwork, self).__init__()\n",
        "        self.fc1 = nn.Linear(state_dim, hidden_dim)\n",
        "        self.fc2 = nn.Linear(hidden_dim, action_dim)\n",
        "\n",
        "    def forward(self, x):\n",
        "        x = torch.relu(self.fc1(x))\n",
        "        x = torch.softmax(self.fc2(x), dim=-1)\n",
        "        return x\n",
        "\n",
        "# Function to run an episode and collect rewards and log probabilities\n",
        "def run_episode(env, policy_net):\n",
        "    state = env.reset()\n",
        "    log_probs = []\n",
        "    rewards = []\n",
        "    done = False\n",
        "\n",
        "    while not done:\n",
        "        state = torch.tensor(state, dtype=torch.float32)\n",
        "        action_probs = policy_net(state)\n",
        "        dist = Categorical(action_probs)\n",
        "        action = dist.sample()\n",
        "\n",
        "        log_probs.append(dist.log_prob(action))\n",
        "        next_state, reward, done, _ = env.step(action.item())\n",
        "\n",
        "        rewards.append(reward)\n",
        "        state = next_state\n",
        "\n",
        "    return log_probs, rewards\n",
        "\n",
        "# Function to compute discounted rewards\n",
        "def compute_discounted_rewards(rewards, gamma=0.99):\n",
        "    discounted_rewards = []\n",
        "    cumulative_reward = 0\n",
        "    for reward in reversed(rewards):\n",
        "        cumulative_reward = reward + gamma * cumulative_reward\n",
        "        discounted_rewards.insert(0, cumulative_reward)\n",
        "\n",
        "    discounted_rewards = torch.tensor(discounted_rewards, dtype=torch.float32)\n",
        "    # Normalize the rewards\n",
        "    discounted_rewards = (discounted_rewards - discounted_rewards.mean()) / (discounted_rewards.std() + 1e-9)\n",
        "    return discounted_rewards\n",
        "\n",
        "# Main training loop\n",
        "def train_policy_gradient(env_name, num_episodes=1000, gamma=0.99, lr=0.01):\n",
        "    env = gym.make(env_name)\n",
        "    state_dim = env.observation_space.shape[0]\n",
        "    action_dim = env.action_space.n\n",
        "\n",
        "    policy_net = PolicyNetwork(state_dim, action_dim)\n",
        "    optimizer = optim.Adam(policy_net.parameters(), lr=lr)\n",
        "\n",
        "    for episode in range(num_episodes):\n",
        "        log_probs, rewards = run_episode(env, policy_net)\n",
        "        discounted_rewards = compute_discounted_rewards(rewards, gamma)\n",
        "\n",
        "        loss = 0\n",
        "        for log_prob, reward in zip(log_probs, discounted_rewards):\n",
        "            loss -= log_prob * reward  # Policy gradient loss\n",
        "\n",
        "        optimizer.zero_grad()\n",
        "        loss.backward()\n",
        "        optimizer.step()\n",
        "\n",
        "        if episode % 50 == 0:\n",
        "            print(f\"Episode {episode}, Total Reward: {sum(rewards)}\")\n",
        "\n",
        "    env.close()\n",
        "\n",
        "# Train the policy gradient agent\n",
        "if __name__ == \"__main__\":\n",
        "    train_policy_gradient(env_name=\"CartPole-v1\", num_episodes=500)"
      ]
    },
    {
      "cell_type": "markdown",
      "source": [
        "Policy Network:\n",
        "\n",
        "A feedforward neural network maps states to action probabilities.\n",
        "It outputs a probability distribution over actions using softmax.\n",
        "REINFORCE Algorithm:\n",
        "\n",
        "Sample actions from the policy network.\n",
        "Compute the discounted cumulative rewards for the episode.\n",
        "Update the policy weights to maximize the expected reward.\n",
        "Discounted Rewards:\n",
        "\n",
        "Rewards are discounted to prioritize earlier rewards in the episode.\n",
        "Optimization:\n",
        "\n",
        "Loss is computed as the negative log probability of taken actions weighted by the discounted rewards.\n",
        "Use Adam optimizer to update the network.\n",
        "Environment:\n",
        "\n",
        "The CartPole-v1 environment is used as an example."
      ],
      "metadata": {
        "id": "-z5aj27A6SJ4"
      }
    }
  ]
}