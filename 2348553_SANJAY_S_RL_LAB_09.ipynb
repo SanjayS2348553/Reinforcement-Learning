{
  "nbformat": 4,
  "nbformat_minor": 0,
  "metadata": {
    "colab": {
      "provenance": [],
      "authorship_tag": "ABX9TyMsCDIAKpXGwoJcgbPh8O2O",
      "include_colab_link": true
    },
    "kernelspec": {
      "name": "python3",
      "display_name": "Python 3"
    },
    "language_info": {
      "name": "python"
    }
  },
  "cells": [
    {
      "cell_type": "markdown",
      "metadata": {
        "id": "view-in-github",
        "colab_type": "text"
      },
      "source": [
        "<a href=\"https://colab.research.google.com/github/SanjayS2348553/Reinforcement-Learning/blob/main/2348553_SANJAY_S_RL_LAB_09.ipynb\" target=\"_parent\"><img src=\"https://colab.research.google.com/assets/colab-badge.svg\" alt=\"Open In Colab\"/></a>"
      ]
    },
    {
      "cell_type": "markdown",
      "source": [
        "# Implement temporal-difference learning in a simulated environment."
      ],
      "metadata": {
        "id": "2Z4N2AfUQWYZ"
      }
    },
    {
      "cell_type": "code",
      "execution_count": 1,
      "metadata": {
        "colab": {
          "base_uri": "https://localhost:8080/"
        },
        "id": "fAsMJwY6Pfpw",
        "outputId": "169af426-2650-4bf3-91fb-b85184227052"
      },
      "outputs": [
        {
          "output_type": "stream",
          "name": "stdout",
          "text": [
            "Learned Value Function:\n",
            "[[-0.12676031 -0.0265227   0.10402844  0.23732475  0.31328083]\n",
            " [-0.2543835   0.          0.16215669  0.39832789  0.57206054]\n",
            " [-0.20094948 -0.07253485  0.          0.5056946   0.75388983]\n",
            " [-0.13515404  0.13019089  0.01169357  0.          0.99208704]\n",
            " [-0.0693933   0.38420889  0.64749367  0.95860435  0.        ]]\n"
          ]
        }
      ],
      "source": [
        "import numpy as np\n",
        "\n",
        "# Define the gridworld environment\n",
        "class GridWorld:\n",
        "    def __init__(self, grid_size, start, goal, obstacles):\n",
        "        self.grid_size = grid_size\n",
        "        self.start = start\n",
        "        self.goal = goal\n",
        "        self.obstacles = obstacles\n",
        "        self.reset()\n",
        "\n",
        "    def reset(self):\n",
        "        self.agent_position = self.start\n",
        "        return self.agent_position\n",
        "\n",
        "    def step(self, action):\n",
        "        # Define action space: 0=up, 1=right, 2=down, 3=left\n",
        "        deltas = [(-1, 0), (0, 1), (1, 0), (0, -1)]\n",
        "        next_position = (\n",
        "            self.agent_position[0] + deltas[action][0],\n",
        "            self.agent_position[1] + deltas[action][1]\n",
        "        )\n",
        "\n",
        "        # Check for boundary and obstacles\n",
        "        if (\n",
        "            0 <= next_position[0] < self.grid_size[0] and\n",
        "            0 <= next_position[1] < self.grid_size[1] and\n",
        "            next_position not in self.obstacles\n",
        "        ):\n",
        "            self.agent_position = next_position\n",
        "\n",
        "        # Check if goal is reached\n",
        "        if self.agent_position == self.goal:\n",
        "            return self.agent_position, 1, True  # Reward = 1\n",
        "        else:\n",
        "            return self.agent_position, -0.1, False  # Reward = -0.1 for each step\n",
        "\n",
        "# Define Temporal-Difference Learning (TD(0))\n",
        "def td_learning(env, episodes, alpha, gamma):\n",
        "    # Initialize value function for each state\n",
        "    V = np.zeros(env.grid_size)\n",
        "    for episode in range(episodes):\n",
        "        state = env.reset()\n",
        "        done = False\n",
        "\n",
        "        while not done:\n",
        "            # Epsilon-greedy policy for exploration\n",
        "            if np.random.rand() < 0.1:  # Exploration\n",
        "                action = np.random.choice(4)\n",
        "            else:  # Exploitation\n",
        "                values = []\n",
        "                for a in range(4):  # Check all possible actions\n",
        "                    next_state, reward, _ = simulate_step(env, state, a)\n",
        "                    values.append(reward + gamma * V[next_state])\n",
        "                action = np.argmax(values)\n",
        "\n",
        "            # Take a step\n",
        "            next_state, reward, done = env.step(action)\n",
        "\n",
        "            # TD(0) Update\n",
        "            V[state] += alpha * (reward + gamma * V[next_state] - V[state])\n",
        "\n",
        "            state = next_state\n",
        "    return V\n",
        "\n",
        "# Helper function to simulate a step without modifying the environment\n",
        "def simulate_step(env, state, action):\n",
        "    deltas = [(-1, 0), (0, 1), (1, 0), (0, -1)]\n",
        "    next_position = (\n",
        "        state[0] + deltas[action][0],\n",
        "        state[1] + deltas[action][1]\n",
        "    )\n",
        "    if (\n",
        "        0 <= next_position[0] < env.grid_size[0] and\n",
        "        0 <= next_position[1] < env.grid_size[1] and\n",
        "        next_position not in env.obstacles\n",
        "    ):\n",
        "        state = next_position\n",
        "\n",
        "    reward = 1 if state == env.goal else -0.1\n",
        "    done = state == env.goal\n",
        "    return state, reward, done\n",
        "\n",
        "# Simulate the environment\n",
        "grid_size = (5, 5)\n",
        "start = (0, 0)\n",
        "goal = (4, 4)\n",
        "obstacles = [(1, 1), (2, 2), (3, 3)]\n",
        "env = GridWorld(grid_size, start, goal, obstacles)\n",
        "\n",
        "# TD Learning parameters\n",
        "episodes = 500\n",
        "alpha = 0.1\n",
        "gamma = 0.9\n",
        "\n",
        "# Learn value function\n",
        "value_function = td_learning(env, episodes, alpha, gamma)\n",
        "\n",
        "# Display results\n",
        "print(\"Learned Value Function:\")\n",
        "print(value_function)\n"
      ]
    },
    {
      "cell_type": "markdown",
      "source": [
        "Environment:\n",
        "\n",
        "A 5x5 grid.\n",
        "Start at (0,0), goal at (4,4).\n",
        "Obstacles are specified and are avoided by the agent.\n",
        "Algorithm:\n",
        "\n",
        "TD(0) updates the value function using the formula:\n",
        "𝑉\n",
        "(\n",
        "𝑠\n",
        ")\n",
        "←\n",
        "𝑉\n",
        "(\n",
        "𝑠\n",
        ")\n",
        "+\n",
        "𝛼\n",
        "(\n",
        "𝑟\n",
        "+\n",
        "𝛾\n",
        "𝑉\n",
        "(\n",
        "𝑠\n",
        "′\n",
        ")\n",
        "−\n",
        "𝑉\n",
        "(\n",
        "𝑠\n",
        ")\n",
        ")\n",
        "V(s)←V(s)+α(r+γV(s\n",
        "′\n",
        " )−V(s))\n",
        "Uses an epsilon-greedy policy for action selection.\n",
        "Parameters:\n",
        "\n",
        "alpha: Learning rate.\n",
        "gamma: Discount factor.\n",
        "episodes: Number of training episodes."
      ],
      "metadata": {
        "id": "ob--3jPkQihb"
      }
    },
    {
      "cell_type": "code",
      "source": [
        "import matplotlib.pyplot as plt\n",
        "# Visualize the value function\n",
        "def plot_value_function(value_function, grid_size, start, goal, obstacles):\n",
        "    plt.figure(figsize=(8, 8))\n",
        "    plt.imshow(value_function, cmap='coolwarm', origin='upper')\n",
        "    plt.colorbar(label=\"State Value\")\n",
        "    plt.title(\"Learned Value Function\", fontsize=16)\n",
        "\n",
        "    # Add start and goal labels\n",
        "    plt.text(start[1], start[0], \"S\", color=\"black\", ha=\"center\", va=\"center\", fontsize=12, fontweight=\"bold\")\n",
        "    plt.text(goal[1], goal[0], \"G\", color=\"black\", ha=\"center\", va=\"center\", fontsize=12, fontweight=\"bold\")\n",
        "\n",
        "    # Mark obstacles\n",
        "    for obs in obstacles:\n",
        "        plt.text(obs[1], obs[0], \"X\", color=\"black\", ha=\"center\", va=\"center\", fontsize=12, fontweight=\"bold\")\n",
        "\n",
        "    plt.xticks(range(grid_size[1]))\n",
        "    plt.yticks(range(grid_size[0]))\n",
        "    plt.gca().invert_yaxis()\n",
        "    plt.grid()\n",
        "    plt.show()\n",
        "\n",
        "# Plot the value function\n",
        "plot_value_function(value_function, grid_size, start, goal, obstacles)\n"
      ],
      "metadata": {
        "colab": {
          "base_uri": "https://localhost:8080/",
          "height": 653
        },
        "id": "6WAGyJAaQRnv",
        "outputId": "bb7204c2-ce02-4f2d-dbbf-efc3517d8341"
      },
      "execution_count": 3,
      "outputs": [
        {
          "output_type": "display_data",
          "data": {
            "text/plain": [
              "<Figure size 800x800 with 2 Axes>"
            ],
            "image/png": "[encoded data removed]"
          },
          "metadata": {}
        }
      ]
    }
  ]
}