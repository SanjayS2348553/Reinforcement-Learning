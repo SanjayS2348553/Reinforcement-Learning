{
  "nbformat": 4,
  "nbformat_minor": 0,
  "metadata": {
    "colab": {
      "provenance": [],
      "history_visible": true,
      "authorship_tag": "ABX9TyPwxD6wZKGpgkw6E5/lsvda",
      "include_colab_link": true
    },
    "kernelspec": {
      "name": "python3",
      "display_name": "Python 3"
    },
    "language_info": {
      "name": "python"
    }
  },
  "cells": [
    {
      "cell_type": "markdown",
      "metadata": {
        "id": "view-in-github",
        "colab_type": "text"
      },
      "source": [
        "<a href=\"https://colab.research.google.com/github/SanjayS2348553/Reinforcement-Learning/blob/main/2348553_SANJAY%20S_RL%20LAB%204.ipynb\" target=\"_parent\"><img src=\"https://colab.research.google.com/assets/colab-badge.svg\" alt=\"Open In Colab\"/></a>"
      ]
    },
    {
      "cell_type": "code",
      "execution_count": 1,
      "metadata": {
        "id": "nP70Hh98_2HU"
      },
      "outputs": [],
      "source": [
        "import numpy as np\n",
        "import matplotlib.pyplot as plt"
      ]
    },
    {
      "cell_type": "code",
      "source": [
        "class MDP:\n",
        "    def __init__(self, states, actions, transition_probs, rewards, gamma):\n",
        "        self.states = states             # List of all states\n",
        "        self.actions = actions           # List of all actions\n",
        "        self.transition_probs = transition_probs # Transition probabilities\n",
        "        self.rewards = rewards           # Rewards\n",
        "        self.gamma = gamma               # Discount factor\n",
        "        self.policy = {s: actions[0] for s in states}  # Initialize policy\n",
        "\n",
        "    def policy_evaluation(self, policy, theta=1e-6):\n",
        "        V = np.zeros(len(self.states))  # Initialize value function for all states\n",
        "        while True:\n",
        "            delta = 0\n",
        "            for s in self.states:\n",
        "                v = V[s]\n",
        "                a = policy[s]  # Take action based on current policy\n",
        "                V[s] = sum([self.transition_probs.get(s, {}).get(a, {}).get(s_prime, 0) *\n",
        "                            (self.rewards.get(s, {}).get(a, {}).get(s_prime, 0) + self.gamma * V[s_prime])\n",
        "                            for s_prime in self.states])\n",
        "                delta = max(delta, abs(v - V[s]))  # Check for convergence\n",
        "            if delta < theta:  # Stop if converged\n",
        "                break\n",
        "        return V\n",
        "\n",
        "    def policy_improvement(self, V):\n",
        "        policy_stable = True\n",
        "        for s in self.states:\n",
        "            old_action = self.policy[s]\n",
        "            action_values = []\n",
        "            for a in self.actions:\n",
        "                # Calculate action values with default transition probabilities and rewards if missing\n",
        "                action_value = sum([self.transition_probs.get(s, {}).get(a, {}).get(s_prime, 0) *\n",
        "                                    (self.rewards.get(s, {}).get(a, {}).get(s_prime, 0) + self.gamma * V[s_prime])\n",
        "                                    for s_prime in self.states])\n",
        "                action_values.append(action_value)\n",
        "            best_action = self.actions[np.argmax(action_values)]\n",
        "            self.policy[s] = best_action\n",
        "            if old_action != best_action:\n",
        "                policy_stable = False\n",
        "        return policy_stable\n",
        "\n",
        "    def policy_iteration(self):\n",
        "        while True:\n",
        "            V = self.policy_evaluation(self.policy)  # Evaluate the current policy\n",
        "            policy_stable = self.policy_improvement(V)  # Improve the policy\n",
        "            if policy_stable:  # Stop if policy is stable\n",
        "                break\n",
        "        return self.policy, V"
      ],
      "metadata": {
        "id": "0InGViTRgibI"
      },
      "execution_count": 11,
      "outputs": []
    },
    {
      "cell_type": "code",
      "source": [
        "# Example usage\n",
        "states = [0, 1, 2]\n",
        "actions = [0, 1]\n",
        "transition_probs = {\n",
        "    0: {0: {0: 0.5, 1: 0.5}, 1: {0: 0.7, 2: 0.3}},\n",
        "    1: {0: {1: 1.0}, 1: {0: 0.4, 2: 0.6}},\n",
        "    2: {0: {0: 0.3, 1: 0.7}, 1: {2: 1.0}}\n",
        "}\n",
        "rewards = {\n",
        "    0: {0: {0: 5, 1: 10}, 1: {0: 0, 2: -1}},\n",
        "    1: {0: {1: -1}, 1: {0: 2, 2: 8}},\n",
        "    2: {0: {0: 1, 1: -2}, 1: {2: 3}}\n",
        "}\n",
        "gamma = 0.9\n",
        "\n",
        "mdp = MDP(states, actions, transition_probs, rewards, gamma)\n",
        "optimal_policy, optimal_value_function = mdp.policy_iteration()"
      ],
      "metadata": {
        "id": "7PibAwM4hk3X"
      },
      "execution_count": 12,
      "outputs": []
    },
    {
      "cell_type": "code",
      "source": [
        "# Print results\n",
        "print(\"Optimal Policy:\", optimal_policy)\n",
        "print(\"Optimal Value Function:\", optimal_value_function)"
      ],
      "metadata": {
        "id": "W-BKskSjhrdi",
        "outputId": "31a3533c-e061-4216-8d13-5e509b0f22ef",
        "colab": {
          "base_uri": "https://localhost:8080/"
        }
      },
      "execution_count": 13,
      "outputs": [
        {
          "output_type": "stream",
          "name": "stdout",
          "text": [
            "Optimal Policy: {0: 0, 1: 1, 2: 0}\n",
            "Optimal Value Function: [53.23181049 48.39443672 43.76108396]\n"
          ]
        }
      ]
    }
  ]
}