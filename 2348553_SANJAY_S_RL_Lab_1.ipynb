{
  "nbformat": 4,
  "nbformat_minor": 0,
  "metadata": {
    "colab": {
      "provenance": [],
      "include_colab_link": true
    },
    "kernelspec": {
      "name": "python3",
      "display_name": "Python 3"
    },
    "language_info": {
      "name": "python"
    }
  },
  "cells": [
    {
      "cell_type": "markdown",
      "metadata": {
        "id": "view-in-github",
        "colab_type": "text"
      },
      "source": [
        "<a href=\"https://colab.research.google.com/github/SanjayS2348553/Reinforcement-Learning/blob/main/2348553_SANJAY_S_RL_Lab_1.ipynb\" target=\"_parent\"><img src=\"https://colab.research.google.com/assets/colab-badge.svg\" alt=\"Open In Colab\"/></a>"
      ]
    },
    {
      "cell_type": "code",
      "source": [
        "import numpy as np\n",
        "import random\n",
        "import matplotlib.pyplot as plt\n",
        "\n",
        "# Define the ad slots\n",
        "ad_slots = [\"Top Banner\", \"Sidebar\", \"Footer\", \"Pop-up\"]\n",
        "\n",
        "num_selected = [0] * len(ad_slots)\n",
        "total_rewards = [0] * len(ad_slots)\n",
        "ctr_estimates = [0] * len(ad_slots)  # CTR estimates for each ad slot\n",
        "\n",
        "\n",
        "epsilon = 0.1\n",
        "num_impressions = 1000\n",
        "\n",
        "true_ctr = [0.05, 0.04, 0.02, 0.01]  # Actual CTR for Top Banner, Sidebar, Footer, and Pop-up\n",
        "\n",
        "# Function to simulate whether a user clicks on an ad or not\n",
        "def simulate_click(ad_slot_idx):\n",
        "    return 1 if random.random() < true_ctr[ad_slot_idx] else 0\n",
        "\n",
        "# Track total clicks and click history for visualization\n",
        "cumulative_clicks = 0\n",
        "click_trend = []\n",
        "\n",
        "# Epsilon-Greedy Algorithm Simulation\n",
        "for i in range(num_impressions):\n",
        "\n",
        "    if random.random() < epsilon:\n",
        "        # Exploration: randomly select an ad slot\n",
        "        ad_slot_idx = random.randint(0, len(ad_slots) - 1)\n",
        "    else:\n",
        "        # Exploitation: select the ad slot with the highest estimated CTR\n",
        "        ad_slot_idx = np.argmax(ctr_estimates)\n",
        "\n",
        "    reward = simulate_click(ad_slot_idx)\n",
        "\n",
        "    # Update the number of times the selected ad slot has been chosen and its total rewards\n",
        "    num_selected[ad_slot_idx] += 1\n",
        "    total_rewards[ad_slot_idx] += reward\n",
        "\n",
        "    # Update the estimated CTR for the selected ad slot\n",
        "    ctr_estimates[ad_slot_idx] = total_rewards[ad_slot_idx] / num_selected[ad_slot_idx]\n",
        "\n",
        "    # Track total clicks and add to click history\n",
        "    cumulative_clicks += reward\n",
        "    click_trend.append(cumulative_clicks)\n",
        "\n",
        "\n",
        "print(\"Final estimated CTR for each ad slot:\")\n",
        "for i, ad_slot in enumerate(ad_slots):\n",
        "    print(f\"{ad_slot}: {ctr_estimates[i]:.4f} (True CTR: {true_ctr[i]:.4f})\")\n",
        "\n",
        "print(\"\\nTotal selections for each ad slot:\")\n",
        "for i, ad_slot in enumerate(ad_slots):\n",
        "    print(f\"{ad_slot}: {num_selected[i]}\")\n",
        "\n",
        "print(f\"\\nTotal Clicks: {cumulative_clicks}\")\n"
      ],
      "metadata": {
        "colab": {
          "base_uri": "https://localhost:8080/"
        },
        "id": "zf-HYJuShi2L",
        "outputId": "cb47d73f-1631-4773-de36-72a797f6eb11"
      },
      "execution_count": null,
      "outputs": [
        {
          "output_type": "stream",
          "name": "stdout",
          "text": [
            "Final estimated CTR for each ad slot:\n",
            "Top Banner: 0.0619 (True CTR: 0.0500)\n",
            "Sidebar: 0.0435 (True CTR: 0.0400)\n",
            "Footer: 0.0465 (True CTR: 0.0200)\n",
            "Pop-up: 0.0000 (True CTR: 0.0100)\n",
            "\n",
            "Total selections for each ad slot:\n",
            "Top Banner: 905\n",
            "Sidebar: 23\n",
            "Footer: 43\n",
            "Pop-up: 29\n",
            "\n",
            "Total Clicks: 59\n"
          ]
        }
      ]
    }
  ]
}