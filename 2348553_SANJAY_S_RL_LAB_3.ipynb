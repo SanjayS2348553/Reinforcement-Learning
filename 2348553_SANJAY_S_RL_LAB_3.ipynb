{
  "nbformat": 4,
  "nbformat_minor": 0,
  "metadata": {
    "colab": {
      "provenance": [],
      "include_colab_link": true
    },
    "kernelspec": {
      "name": "python3",
      "display_name": "Python 3"
    },
    "language_info": {
      "name": "python"
    }
  },
  "cells": [
    {
      "cell_type": "markdown",
      "metadata": {
        "id": "view-in-github",
        "colab_type": "text"
      },
      "source": [
        "<a href=\"https://colab.research.google.com/github/SanjayS2348553/Reinforcement-Learning/blob/main/2348553_SANJAY_S_RL_LAB_3.ipynb\" target=\"_parent\"><img src=\"https://colab.research.google.com/assets/colab-badge.svg\" alt=\"Open In Colab\"/></a>"
      ]
    },
    {
      "cell_type": "markdown",
      "source": [
        "Implement Markov Decision Process (MDP) Simulation and Value Iteration"
      ],
      "metadata": {
        "id": "TRR69RfOtzHE"
      }
    },
    {
      "cell_type": "code",
      "execution_count": null,
      "metadata": {
        "colab": {
          "base_uri": "https://localhost:8080/"
        },
        "id": "jqH1_WJrm0w9",
        "outputId": "55ef2d44-dbdc-4a9f-d975-434ddd1e7069"
      },
      "outputs": [
        {
          "output_type": "stream",
          "name": "stdout",
          "text": [
            "Optimal Values (V*): [6.16315401 5.73683861 5.26315475 4.73683927]\n",
            "Optimal Policy (pi*): [1 1 1 0]\n",
            "\n",
            "MDP Simulation:\n",
            "State: 0\n",
            "  Action: 1\n",
            "State: 1\n",
            "  Action: 1\n",
            "State: 2\n",
            "  Action: 1\n",
            "State: 3\n",
            "  Action: 0\n",
            "State: 2\n",
            "  Action: 1\n",
            "Final State: 3\n"
          ]
        }
      ],
      "source": [
        "import numpy as np\n",
        "\n",
        "class MDP:\n",
        "    def __init__(self, states, actions, transition_prob, rewards, gamma=0.9):\n",
        "        \"\"\"\n",
        "        Initialize the MDP.\n",
        "\n",
        "        :param states: List of states.\n",
        "        :param actions: List of actions.\n",
        "        :param transition_prob: A dict where T[s][a][s'] gives the probability of transitioning from state s to s'.\n",
        "        :param rewards: A dict where R[s][a] gives the reward for taking action a in state s.\n",
        "        :param gamma: Discount factor (0 <= gamma <= 1).\n",
        "        \"\"\"\n",
        "        self.states = states\n",
        "        self.actions = actions\n",
        "        self.transition_prob = transition_prob\n",
        "        self.rewards = rewards\n",
        "        self.gamma = gamma\n",
        "\n",
        "    def value_iteration(self, epsilon=1e-6):\n",
        "        \"\"\"\n",
        "        Perform Value Iteration to compute optimal state-value function and policy.\n",
        "\n",
        "        :param epsilon: Convergence threshold for value iteration.\n",
        "        :return: Optimal values (V*) and optimal policy (pi*).\n",
        "        \"\"\"\n",
        "        V = np.zeros(len(self.states))  # Initialize value function to zero\n",
        "        policy = np.zeros(len(self.states), dtype=int)  # Initialize arbitrary policy\n",
        "\n",
        "        while True:\n",
        "            delta = 0  # Track maximum value change across states\n",
        "            for s in self.states:\n",
        "                # Compute the value for each action\n",
        "                action_values = []\n",
        "                for a in self.actions:\n",
        "                    value = sum(\n",
        "                        self.transition_prob[s][a][s_next] *\n",
        "                        (self.rewards[s][a] + self.gamma * V[s_next])\n",
        "                        for s_next in self.states\n",
        "                    )\n",
        "                    action_values.append(value)\n",
        "\n",
        "                # Update state value and policy\n",
        "                best_action_value = max(action_values)\n",
        "                delta = max(delta, abs(best_action_value - V[s]))  # Track convergence\n",
        "                V[s] = best_action_value\n",
        "                policy[s] = np.argmax(action_values)  # Update policy to best action\n",
        "\n",
        "            if delta < epsilon:  # Check convergence\n",
        "                break\n",
        "\n",
        "        return V, policy\n",
        "\n",
        "    def simulate(self, start_state, policy, steps=10):\n",
        "        \"\"\"\n",
        "        Simulate the MDP given a policy.\n",
        "\n",
        "        :param start_state: Initial state for the simulation.\n",
        "        :param policy: Optimal policy from value iteration.\n",
        "        :param steps: Number of steps to simulate.\n",
        "        \"\"\"\n",
        "        state = start_state\n",
        "        for _ in range(steps):\n",
        "            print(f\"State: {state}\")\n",
        "            action = policy[state]\n",
        "            print(f\"  Action: {action}\")\n",
        "\n",
        "            # Get the next state probabilistically\n",
        "            next_state_probs = self.transition_prob[state][action]\n",
        "            state = np.random.choice(self.states, p=next_state_probs)\n",
        "\n",
        "        print(f\"Final State: {state}\")\n",
        "\n",
        "# Example Grid-World MDP Setup\n",
        "states = [0, 1, 2, 3]  # Example states (could represent positions in a 2x2 grid)\n",
        "actions = [0, 1]  # 0: Move Left, 1: Move Right\n",
        "\n",
        "# Define Transition Probabilities T[s][a][s']\n",
        "transition_prob = {\n",
        "    0: {0: [1.0, 0.0, 0.0, 0.0], 1: [0.0, 1.0, 0.0, 0.0]},\n",
        "    1: {0: [1.0, 0.0, 0.0, 0.0], 1: [0.0, 0.0, 1.0, 0.0]},\n",
        "    2: {0: [0.0, 0.0, 1.0, 0.0], 1: [0.0, 0.0, 0.0, 1.0]},\n",
        "    3: {0: [0.0, 0.0, 1.0, 0.0], 1: [0.0, 0.0, 0.0, 1.0]},\n",
        "}\n",
        "\n",
        "# Define Rewards R[s][a]\n",
        "rewards = {\n",
        "    0: {0: 0, 1: 1},\n",
        "    1: {0: 0, 1: 1},\n",
        "    2: {0: 0, 1: 1},\n",
        "    3: {0: 0, 1: 0},  # Terminal state with no reward\n",
        "}\n",
        "\n",
        "# Create MDP and Run Value Iteration\n",
        "mdp = MDP(states, actions, transition_prob, rewards, gamma=0.9)\n",
        "V, policy = mdp.value_iteration()\n",
        "\n",
        "print(\"Optimal Values (V*):\", V)\n",
        "print(\"Optimal Policy (pi*):\", policy)\n",
        "\n",
        "# Simulate the MDP using the optimal policy\n",
        "print(\"\\nMDP Simulation:\")\n",
        "mdp.simulate(start_state=0, policy=policy, steps=5)\n"
      ]
    }
  ]
}